{
 "cells": [
  {
   "cell_type": "code",
   "execution_count": 1,
   "id": "b8c55253",
   "metadata": {},
   "outputs": [],
   "source": [
    "import nltk"
   ]
  },
  {
   "cell_type": "code",
   "execution_count": 2,
   "id": "8ca9abaf",
   "metadata": {},
   "outputs": [],
   "source": [
    "from nltk.corpus import stopwords\n",
    "from nltk.tokenize import word_tokenize\n",
    "from nltk.stem import PorterStemmer"
   ]
  },
  {
   "cell_type": "code",
   "execution_count": 3,
   "id": "e09005b4",
   "metadata": {},
   "outputs": [
    {
     "name": "stdout",
     "output_type": "stream",
     "text": [
      "['/Users/y0n01ab/nltk_data', '/Users/y0n01ab/anaconda3/nltk_data', '/Users/y0n01ab/anaconda3/share/nltk_data', '/Users/y0n01ab/anaconda3/lib/nltk_data', '/usr/share/nltk_data', '/usr/local/share/nltk_data', '/usr/lib/nltk_data', '/usr/local/lib/nltk_data']\n"
     ]
    }
   ],
   "source": [
    "print(nltk.data.path)"
   ]
  },
  {
   "cell_type": "code",
   "execution_count": 4,
   "id": "c1f1d697",
   "metadata": {},
   "outputs": [],
   "source": [
    "from nltk.tokenize.punkt import PunktSentenceTokenizer\n",
    "with open('/Users/y0n01ab/nltk_data/tokenizers/punkt/PY3/english.pickle', 'rb') as f:\n",
    "    tokenizer = PunktSentenceTokenizer(f.read())"
   ]
  },
  {
   "cell_type": "code",
   "execution_count": 5,
   "id": "0d9278b4",
   "metadata": {},
   "outputs": [],
   "source": [
    "from nltk.corpus import stopwords\n",
    "# Set the stopwords directory\n",
    "stopwords.fileids = ['/Users/y0n01ab/nltk_data/corpora/stopwords']\n",
    "# Now you can use stopwords as usual\n",
    "stop_words = set(stopwords.words('english'))"
   ]
  },
  {
   "cell_type": "code",
   "execution_count": 6,
   "id": "efb5c69e",
   "metadata": {},
   "outputs": [],
   "source": [
    "ps = PorterStemmer()"
   ]
  },
  {
   "cell_type": "code",
   "execution_count": 7,
   "id": "add50d78",
   "metadata": {},
   "outputs": [],
   "source": [
    "def clean_text(text):\n",
    "    word_tokens = word_tokenize(text)\n",
    "    filtered_text = [ps.stem(w) for w in word_tokens if not w in stop_words]\n",
    "    return \" \".join(filtered_text)"
   ]
  },
  {
   "cell_type": "code",
   "execution_count": null,
   "id": "91b91919",
   "metadata": {},
   "outputs": [],
   "source": []
  }
 ],
 "metadata": {
  "kernelspec": {
   "display_name": "Python 3 (ipykernel)",
   "language": "python",
   "name": "python3"
  },
  "language_info": {
   "codemirror_mode": {
    "name": "ipython",
    "version": 3
   },
   "file_extension": ".py",
   "mimetype": "text/x-python",
   "name": "python",
   "nbconvert_exporter": "python",
   "pygments_lexer": "ipython3",
   "version": "3.10.9"
  }
 },
 "nbformat": 4,
 "nbformat_minor": 5
}
